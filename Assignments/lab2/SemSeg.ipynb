{
 "cells": [
  {
   "cell_type": "code",
   "execution_count": 1,
   "metadata": {},
   "outputs": [],
   "source": [
    "import torch\n",
    "import torch.nn as nn\n",
    "import torch.utils.data as data\n",
    "from dataloader import VOC\n",
    "from model import SegNet\n",
    "from torch.autograd import Variable\n",
    "import numpy as np\n",
    "import matplotlib.pyplot as plt"
   ]
  },
  {
   "cell_type": "code",
   "execution_count": 2,
   "metadata": {},
   "outputs": [],
   "source": [
    "# Loading the train and test datasets\n",
    "\n",
    "train_dataset = VOC('./VOCdevkit/', 'train')\n",
    "val_dataset = VOC('./VOCdevkit/', 'val')\n",
    "train_dataloader = data.DataLoader(\n",
    "                    train_dataset,\n",
    "                    batch_size = 6,\n",
    "                    shuffle = True,\n",
    "                    num_workers = 4)\n",
    "\n",
    "val_dataloader = data.DataLoader(\n",
    "                    val_dataset,\n",
    "                    batch_size = 1,\n",
    "                    shuffle = False,\n",
    "                    num_workers = 1)\n"
   ]
  },
  {
   "cell_type": "code",
   "execution_count": 3,
   "metadata": {},
   "outputs": [
    {
     "ename": "SyntaxError",
     "evalue": "invalid syntax (<ipython-input-3-ca9046d007f0>, line 7)",
     "output_type": "error",
     "traceback": [
      "\u001b[0;36m  File \u001b[0;32m\"<ipython-input-3-ca9046d007f0>\"\u001b[0;36m, line \u001b[0;32m7\u001b[0m\n\u001b[0;31m    model =\u001b[0m\n\u001b[0m           ^\u001b[0m\n\u001b[0;31mSyntaxError\u001b[0m\u001b[0;31m:\u001b[0m invalid syntax\n"
     ]
    }
   ],
   "source": [
    "model = SegNet()\n",
    "# criterion = nn.MSELoss()\n",
    "# criterion = nn.BCELoss()\n",
    "criterion = nn.BCEWithLogitsLoss()\n",
    "\n",
    "# Comment if not using a GPU\n",
    "model =\n",
    "criterion = \n",
    "\n",
    "# Inititialize the optimizer.\n",
    "lr = 0.1\n",
    "optimizer = torch.optim.Adam(model.parameters(), lr)\n",
    "n_epochs = 10\n"
   ]
  },
  {
   "cell_type": "code",
   "execution_count": 4,
   "metadata": {},
   "outputs": [
    {
     "ename": "SyntaxError",
     "evalue": "invalid syntax (<ipython-input-4-c2b62d91ca96>, line 13)",
     "output_type": "error",
     "traceback": [
      "\u001b[0;36m  File \u001b[0;32m\"<ipython-input-4-c2b62d91ca96>\"\u001b[0;36m, line \u001b[0;32m13\u001b[0m\n\u001b[0;31m    output =\u001b[0m\n\u001b[0m            ^\u001b[0m\n\u001b[0;31mSyntaxError\u001b[0m\u001b[0;31m:\u001b[0m invalid syntax\n"
     ]
    }
   ],
   "source": [
    "def train(epoch, dataloader, model, criterion, optimizer, image_set = 'train'):\n",
    "    loss_meter = 0\n",
    "    acc_meter = 0\n",
    "\n",
    "    for i, (input, target) in enumerate(dataloader):\n",
    "        if image_set == 'train':\n",
    "            input = input.requires_grad_(True).float().cuda()\n",
    "        else:\n",
    "            input = input.float().cuda()\n",
    "        target = target.float().cuda()\n",
    "\n",
    "        # Get the model output\n",
    "        output =\n",
    "\n",
    "        # Introducing the loss here. Compute the loss value\n",
    "        loss =\n",
    "        loss_meter += loss.item()\n",
    "\n",
    "        # Compute acc here\n",
    "        acc = compute_acc(output, target)\n",
    "        acc_meter += acc.item()\n",
    "\n",
    "        if image_set == 'train':\n",
    "            # In the next three lines:\n",
    "            # Zero the existing gadients\n",
    "            # Do a backward pass\n",
    "            # Update the weights\n",
    "\n",
    "        if i % 3 == 0:\n",
    "            print(image_set, ' loss at epoch ', str(epoch), ' iteration ', str(i), ' is: ', loss_meter / (i+1),\n",
    "                       ' and acc is: ', acc_meter / (i+1))\n",
    "\n"
   ]
  },
  {
   "cell_type": "code",
   "execution_count": 5,
   "metadata": {},
   "outputs": [],
   "source": [
    "def compute_acc(pred, gt):\n",
    "    '''\n",
    "        Assuming pred and gt are both tensors of same size\n",
    "    '''\n",
    "    pred = pred.argmax(1).float()\n",
    "    gt = gt.argmax(1).float()\n",
    "    acc = pred.eq(gt).float().sum() / torch.numel(gt)\n",
    "    return acc\n"
   ]
  },
  {
   "cell_type": "code",
   "execution_count": null,
   "metadata": {},
   "outputs": [],
   "source": [
    "for i in range(n_epochs):\n",
    "    train(i, train_dataloader, model, criterion, optimizer, 'train')\n",
    "    if i % 2 == 0:\n",
    "        train(i, val_dataloader, model, criterion, optimizer, 'val')\n",
    "\n"
   ]
  }
 ],
 "metadata": {
  "kernelspec": {
   "display_name": "Python 3",
   "language": "python",
   "name": "python3"
  },
  "language_info": {
   "codemirror_mode": {
    "name": "ipython",
    "version": 3
   },
   "file_extension": ".py",
   "mimetype": "text/x-python",
   "name": "python",
   "nbconvert_exporter": "python",
   "pygments_lexer": "ipython3",
   "version": "3.6.5"
  }
 },
 "nbformat": 4,
 "nbformat_minor": 2
}
