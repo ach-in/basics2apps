{
 "cells": [
  {
   "cell_type": "code",
   "execution_count": 2,
   "metadata": {
    "collapsed": true
   },
   "outputs": [],
   "source": [
    "import numpy as np\n",
    "import torch\n",
    "import torch.nn as nn\n",
    "import torch.nn.functional as F\n",
    "from torch.autograd import Variable"
   ]
  },
  {
   "cell_type": "markdown",
   "metadata": {},
   "source": [
    "## **Intro to nn.Module of PyTorch**"
   ]
  },
  {
   "cell_type": "markdown",
   "metadata": {},
   "source": [
    "In this module we'll introduce you to PyTorch's nn.Module class, and how you can use them to introduce complicated architectures. <br>\n",
    "\n",
    "It is not possible to create all forms of architecture using nn.Sequential, many architectures such as ResNet and Inception do not have a linear sequence in which data is passed through. <br>\n",
    "\n",
    "For example following is a ResNet block, which can not be implemented using nn.Sequential.\n",
    "![image](resnet_block.png)\n",
    "\n",
    "However its easy to implement such blocks using nn.Module. <br>\n",
    "\n",
    "In this class, we'll first introduce how to form a simple fully connected architecture and CNN using nn.Module.\n",
    "\n",
    "Then we'll use the power of nn.Module to show how more complex architectrues can be formed, like the ResNet block above."
   ]
  },
  {
   "cell_type": "code",
   "execution_count": 3,
   "metadata": {
    "collapsed": true
   },
   "outputs": [],
   "source": [
    "## Let's start by constructing a fully connected nn.Module, equivalent to one we constructed in previous class using\n",
    "## nn.Sequential\n",
    "\n",
    "## When defining a model using nn.Moudule two methods need to implemented i.e __init__ and forward.\n",
    "## nn.Module takes care of the backward pass for you.\n",
    "class TwoLayerNet(nn.Module):\n",
    "    def __init__(self, D_in, H, D_out):\n",
    "        '''\n",
    "        D_in: Dimensionality of the input\n",
    "        H: Hidden layer dimensionality\n",
    "        D_out: Dimensionality of the output\n",
    "        '''\n",
    "        # Define all layers which have weights here.\n",
    "        super(TwoLayerNet, self).__init__()\n",
    "        self.linear1 = nn.Linear(D_in, H)  \n",
    "        self.linear2 = nn.Linear(H, D_out)\n",
    "        \n",
    "    def forward(self, x):\n",
    "        '''\n",
    "        x: input tensor of dimensionality (b, D_in), where b is batch size and D_in is input dimension.\n",
    "        \n",
    "        returns: y_pred, of shape (b, D_out), where D_out is output dimension.\n",
    "        '''\n",
    "        h_relu = F.relu(self.linear1(x)) # nn.Module layers can be called as a function on the input\n",
    "        \n",
    "        # Using for displaying the shape of hidden layer\n",
    "        # DON'T WRITE THIS when actually implementing your models\n",
    "        print(\"\\nHidden Activation Layer has shape: {}\".format(h_relu.shape)) \n",
    "        \n",
    "        y_pred = self.linear2(h_relu) \n",
    "        return y_pred"
   ]
  },
  {
   "cell_type": "code",
   "execution_count": 4,
   "metadata": {},
   "outputs": [
    {
     "name": "stdout",
     "output_type": "stream",
     "text": [
      "TwoLayerNet(\n",
      "  (linear1): Linear(in_features=100, out_features=50, bias=True)\n",
      "  (linear2): Linear(in_features=50, out_features=10, bias=True)\n",
      ")\n",
      "\n",
      "x has shape torch.Size([32, 100])\n",
      "\n",
      "Hidden Activation Layer has shape: torch.Size([32, 50])\n",
      "\n",
      "y_pred has shape: torch.Size([32, 10])\n"
     ]
    }
   ],
   "source": [
    "## In the block above we defined a simple 2-layer fully connected network, now let's pass an input to it.\n",
    "\n",
    "# N is batch size; D_in is input dimension;\n",
    "# H is the dimension of the hidden layer; D_out is output dimension.\n",
    "N, D_in, H, D_out = 32, 100, 50, 10\n",
    "\n",
    "# Construct our model by instantiating the class defined above\n",
    "model = TwoLayerNet(D_in, H, D_out)\n",
    "\n",
    "# Lets check the shapes of each layer\n",
    "print(model)\n",
    "\n",
    "\n",
    "# Create random Tensors to hold inputs and outputs, and wrap them in Variables\n",
    "x = Variable(torch.randn(N, D_in))  # dim: 32 x 100\n",
    "\n",
    "# Lets check shape of x and its type\n",
    "print(\"\\nx has shape {}\".format(x.shape))\n",
    "\n",
    "\n",
    "\n",
    "\n",
    "# Forward pass: Compute predicted y by passing x to the model\n",
    "# nn.Module model can be used on input by directly calling the model on x.\n",
    "y_pred = model(x)   # dim: 32 x 10\n",
    "\n",
    "# Lets check the shape of each y , the output\n",
    "\n",
    "print(\"\\ny_pred has shape: {}\".format(y_pred.shape))"
   ]
  },
  {
   "cell_type": "markdown",
   "metadata": {},
   "source": [
    "Notice how easy it is to construct a network using nn.Module, we only need to define how the forward pass of our function looks like, and we can use the data from intermediate layers as well. Next lets' construct a Basic Convolutional Network"
   ]
  },
  {
   "cell_type": "markdown",
   "metadata": {},
   "source": [
    "## Basic Convolutional Network using nn.Module"
   ]
  },
  {
   "cell_type": "markdown",
   "metadata": {},
   "source": [
    "Now that we know how to implement a simple neural network using nn.Module we'll next construct a basic convnet using nn.Module and also show how nn.Module takes care of the back prop on its own."
   ]
  },
  {
   "cell_type": "code",
   "execution_count": 5,
   "metadata": {},
   "outputs": [
    {
     "name": "stdout",
     "output_type": "stream",
     "text": [
      "BasicConvNet(\n",
      "  (conv1): Conv2d(1, 6, kernel_size=(5, 5), stride=(1, 1))\n",
      "  (conv2): Conv2d(6, 16, kernel_size=(5, 5), stride=(1, 1))\n",
      "  (fc1): Linear(in_features=400, out_features=120, bias=True)\n",
      "  (fc2): Linear(in_features=120, out_features=84, bias=True)\n",
      "  (fc3): Linear(in_features=84, out_features=10, bias=True)\n",
      ")\n"
     ]
    }
   ],
   "source": [
    "class BasicConvNet(nn.Module):\n",
    "\n",
    "    def __init__(self):\n",
    "        super(BasicConvNet, self).__init__()\n",
    "        \n",
    "       \n",
    "        # Again define all layers with weights here.\n",
    "        \n",
    "        self.conv1 = nn.Conv2d(1, 6, 5) # 1 input image channel, 6 output channels, 5x5 square convolution kernel\n",
    "        self.conv2 = nn.Conv2d(6, 16, 5)\n",
    "        # an affine operation: y = Wx + b\n",
    "        self.fc1 = nn.Linear(16 * 5 * 5, 120)\n",
    "        self.fc2 = nn.Linear(120, 84)\n",
    "        self.fc3 = nn.Linear(84, 10)\n",
    "\n",
    "    def forward(self, x):\n",
    "        \n",
    "        # Input-> Conv1 -> ReLU\n",
    "        x = F.relu(self.conv1(x))\n",
    "        print(\"Conv1 Activation has output size: {}\\n\".format(x.shape))\n",
    "        \n",
    "        # Max pooling over a (2, 2) window\n",
    "        x = F.max_pool2d(x, (2, 2))  \n",
    "        print(\"MaxPool1 has output size: {}\\n\".format(x.shape))\n",
    "        \n",
    "        # If the size is a square you can only specify a single number\n",
    "        x = F.relu(self.conv2(x))\n",
    "        print(\"Conv2 Activation has output size: {}\\n\".format(x.shape))\n",
    "        \n",
    "        x = F.max_pool2d(x, 2)\n",
    "        print(\"MaxPool2 has output size: {}\\n\".format(x.shape))\n",
    "        \n",
    "        # x.view is used to flatten the output. if -1 is used, the given dimension is inferred.\n",
    "        \n",
    "        x = x.view(x.size(0), -1) \n",
    "        print(\"Flattened output has shape: {}\\n\".format(x.shape))\n",
    "        \n",
    "        x = F.relu(self.fc1(x))\n",
    "        print(\"Linear1 Activation has shape: {}\\n\".format(x.shape))\n",
    "        \n",
    "        x = F.relu(self.fc2(x))\n",
    "        print(\"Linear2 Activation has shape: {}\\n\".format(x.shape))\n",
    "        \n",
    "        x = self.fc3(x)\n",
    "        return x\n",
    "\n",
    "\n",
    "net = BasicConvNet()\n",
    "print(net)"
   ]
  },
  {
   "cell_type": "code",
   "execution_count": 6,
   "metadata": {},
   "outputs": [
    {
     "name": "stdout",
     "output_type": "stream",
     "text": [
      "Conv1's weights: torch.Size([6, 1, 5, 5])\n"
     ]
    }
   ],
   "source": [
    "params = list(net.parameters()) # Retrieve the parameters of net.\n",
    "print(\"Conv1's weights: {}\".format(params[0].size()))  # conv1's .weight"
   ]
  },
  {
   "cell_type": "code",
   "execution_count": 7,
   "metadata": {},
   "outputs": [
    {
     "name": "stdout",
     "output_type": "stream",
     "text": [
      "Conv1 Activation has output size: torch.Size([1, 6, 28, 28])\n",
      "\n",
      "MaxPool1 has output size: torch.Size([1, 6, 14, 14])\n",
      "\n",
      "Conv2 Activation has output size: torch.Size([1, 16, 10, 10])\n",
      "\n",
      "MaxPool2 has output size: torch.Size([1, 16, 5, 5])\n",
      "\n",
      "Flattened output has shape: torch.Size([1, 400])\n",
      "\n",
      "Linear1 Activation has shape: torch.Size([1, 120])\n",
      "\n",
      "Linear2 Activation has shape: torch.Size([1, 84])\n",
      "\n",
      "\n",
      "Shape of output: torch.Size([1, 10])\n",
      "\n",
      "Output is : \n",
      "tensor([[ 0.0061, -0.0907,  0.0149, -0.0294, -0.0185,  0.1008, -0.1026,\n",
      "          0.1179,  0.0089,  0.0892]])\n"
     ]
    }
   ],
   "source": [
    "input = torch.randn(1, 1, 32, 32) # Input shape is (batch_size, number_of_channels, height, width)\n",
    "out = net(input) # Get the output\n",
    "\n",
    "print(\"\\nShape of output: {}\\n\".format(out.shape))\n",
    "print(\"Output is : \\n{}\".format(out)) "
   ]
  },
  {
   "cell_type": "code",
   "execution_count": 9,
   "metadata": {},
   "outputs": [
    {
     "name": "stdout",
     "output_type": "stream",
     "text": [
      "conv1.bias.grad before backward\n",
      "None\n",
      "conv1.bias.grad after backward\n",
      "tensor([-0.0066,  0.0107,  0.0224, -0.0055,  0.0082,  0.0255])\n"
     ]
    }
   ],
   "source": [
    "# Lets now see how the backward pass of nn.Module can be computed directly.\n",
    "\n",
    "net.zero_grad()     # zeroes the gradient buffers of all parameters\n",
    "\n",
    "print('conv1.bias.grad before backward')\n",
    "print(net.conv1.bias.grad)\n",
    "\n",
    "out.backward(torch.randn(1, 10)) # Pass a random gradient in the buffer\n",
    "\n",
    "print('conv1.bias.grad after backward')\n",
    "print(net.conv1.bias.grad)\n"
   ]
  },
  {
   "cell_type": "markdown",
   "metadata": {},
   "source": [
    "## ResNet Block\n",
    "\n",
    "Now we have seen how to construct basic architecture's using nn.Module, we will next see modules which cannot be constructed using nn.Sequential, as the data flow within these architectures is not linear, we can re-use our intermediate layers directly. We will implement ResNet Block using nn.Module now as shown below.\n",
    "\n",
    "<br>\n",
    "![resnet_block](resnet_block_bn.png)\n",
    "\n",
    "In a single resnet block a skip connection is present between the input layers and output layers of the block."
   ]
  },
  {
   "cell_type": "code",
   "execution_count": 13,
   "metadata": {},
   "outputs": [
    {
     "name": "stdout",
     "output_type": "stream",
     "text": [
      "BasicBlock(\n",
      "  (conv1): Conv2d(2, 2, kernel_size=(3, 3), stride=(1, 1), padding=(1, 1), bias=False)\n",
      "  (relu): ReLU(inplace)\n",
      "  (conv2): Conv2d(2, 2, kernel_size=(3, 3), stride=(1, 1), padding=(1, 1), bias=False)\n",
      ")\n"
     ]
    }
   ],
   "source": [
    "class BasicBlock(nn.Module):\n",
    "\n",
    "    def __init__(self, in_planes, out_planes, stride=1, downsample=None):\n",
    "        '''\n",
    "        in_planes: number of input channels\n",
    "        out_planes: number of output channels\n",
    "        stride: stride to set for conv layers\n",
    "        downsample: function used to downsample before skip-connection \n",
    "        '''\n",
    "        super(BasicBlock, self).__init__()\n",
    "        \n",
    "        self.conv1 = nn.Conv2d(in_planes, out_planes, kernel_size=3, stride=stride,\n",
    "                     padding=1, bias=False)\n",
    "        \n",
    "        \n",
    "        self.relu = nn.ReLU(inplace=True)\n",
    "        \n",
    "        self.conv2 = nn.Conv2d(out_planes, out_planes, kernel_size=3, stride=stride,\n",
    "                     padding=1, bias=False)\n",
    "                               \n",
    "        self.stride = stride\n",
    "\n",
    "    def forward(self, x):\n",
    "        identity = x\n",
    "\n",
    "        out = self.conv1(x)\n",
    "        out = self.relu(out)\n",
    "        out = self.conv2(out)\n",
    "               \n",
    "        # Notice the skip connection!! such a connection isn't possible with nn.Sequential.\n",
    "        out += identity \n",
    "        out = self.relu(out)\n",
    "\n",
    "        return out\n",
    "\n",
    "    \n",
    "block = BasicBlock(2, 2)\n",
    "print(block)"
   ]
  },
  {
   "cell_type": "code",
   "execution_count": 14,
   "metadata": {},
   "outputs": [
    {
     "name": "stdout",
     "output_type": "stream",
     "text": [
      "Shape of the output layer: torch.Size([1, 2, 5, 5])\n",
      "\n"
     ]
    }
   ],
   "source": [
    "input = torch.randn(1, 2, 5, 5)\n",
    "\n",
    "output = block(input)\n",
    "\n",
    "\n",
    "print(\"Shape of the output layer: {}\\n\".format(output.shape)) "
   ]
  },
  {
   "cell_type": "markdown",
   "metadata": {},
   "source": [
    "Here we have shown how to construct complex architectures using nn.Module, which allows you to access the internal activations of the network and pass them onto other layers. We displayed this functionality ResNet block. <br>\n",
    "As you become more advanced with PyTorch"
   ]
  }
 ],
 "metadata": {
  "kernelspec": {
   "display_name": "Python 3",
   "language": "python",
   "name": "python3"
  },
  "language_info": {
   "codemirror_mode": {
    "name": "ipython",
    "version": 3
   },
   "file_extension": ".py",
   "mimetype": "text/x-python",
   "name": "python",
   "nbconvert_exporter": "python",
   "pygments_lexer": "ipython3",
   "version": "3.6.5"
  }
 },
 "nbformat": 4,
 "nbformat_minor": 2
}
