{
 "cells": [
  {
   "cell_type": "code",
   "execution_count": 1,
   "metadata": {
    "collapsed": true
   },
   "outputs": [],
   "source": [
    "import numpy as np\n",
    "import torch"
   ]
  },
  {
   "cell_type": "markdown",
   "metadata": {},
   "source": [
    "### 10 minute NumPy Blitz\n",
    "Numpy is a super-useful array-processing package in python. Together with Scipy, it enables numerical and scientific computing in Python's workspace. It is intuitive, fast, and covers almost everything we can think of doing with with n-dimentional arrays\n",
    "\n",
    "The fundamental object of numpy is its array object:"
   ]
  },
  {
   "cell_type": "code",
   "execution_count": 2,
   "metadata": {},
   "outputs": [
    {
     "name": "stdout",
     "output_type": "stream",
     "text": [
      "<class 'list'>\n",
      "[1 2 3 5]\n",
      "<class 'numpy.ndarray'>\n"
     ]
    }
   ],
   "source": [
    "# This is a normal array (or 'list' as they call it in python)\n",
    "a = [1,2,3,5]\n",
    "print(type(a))\n",
    "\n",
    "# This is the same array converted to a numpy array\n",
    "b = np.array(a)\n",
    "print(b)\n",
    "print(type(b))\n"
   ]
  },
  {
   "cell_type": "code",
   "execution_count": 3,
   "metadata": {},
   "outputs": [
    {
     "name": "stdout",
     "output_type": "stream",
     "text": [
      "[[1 2]\n",
      " [2 4]\n",
      " [4 1]\n",
      " [2 5]]\n",
      "<class 'numpy.ndarray'>\n"
     ]
    }
   ],
   "source": [
    "# Let's define a multi-dimensional array\n",
    "a = [[1,2],[2,4],[4,1],[2,5]]\n",
    "\n",
    "b = np.array(a)\n",
    "print(b)\n",
    "print(type(b))"
   ]
  },
  {
   "cell_type": "code",
   "execution_count": 4,
   "metadata": {},
   "outputs": [
    {
     "name": "stdout",
     "output_type": "stream",
     "text": [
      "(4, 2)\n",
      "<class 'tuple'>\n",
      "4 2\n"
     ]
    }
   ],
   "source": [
    "# To know the shape of a numpy array, get the shape variable\n",
    "c = b.shape\n",
    "print(c)\n",
    "print(type(c))\n",
    "\n",
    "# the shape of a numpy array is a tuple consisting of the number of dimensions.\n",
    "print(b.shape[0], b.shape[1])"
   ]
  },
  {
   "cell_type": "code",
   "execution_count": 5,
   "metadata": {},
   "outputs": [
    {
     "name": "stdout",
     "output_type": "stream",
     "text": [
      "[[0. 0. 0. 0.]\n",
      " [0. 0. 0. 0.]\n",
      " [0. 0. 0. 0.]]\n",
      "(3, 4)\n",
      "[[1. 1. 1. 1.]\n",
      " [1. 1. 1. 1.]\n",
      " [1. 1. 1. 1.]]\n",
      "(3, 4)\n",
      "[[0.47539336 0.5160857  0.58449375 0.1451566 ]\n",
      " [0.69356317 0.77817505 0.54405195 0.06387605]\n",
      " [0.49038025 0.50412412 0.86038677 0.2410578 ]]\n",
      "(3, 4)\n"
     ]
    }
   ],
   "source": [
    "# We can initialize a numpy array in other ways too:\n",
    "a = np.zeros((3,4))\n",
    "print(a)\n",
    "print(a.shape)\n",
    "\n",
    "b = np.ones((3,4))\n",
    "print(b)\n",
    "print(b.shape)\n",
    "\n",
    "c = np.random.random((3,4))\n",
    "print(c)\n",
    "print(c.shape)"
   ]
  },
  {
   "cell_type": "code",
   "execution_count": 6,
   "metadata": {},
   "outputs": [
    {
     "name": "stdout",
     "output_type": "stream",
     "text": [
      "[[0.47539336 0.5160857  0.58449375 0.1451566 ]\n",
      " [0.69356317 0.77817505 0.54405195 0.06387605]\n",
      " [0.49038025 0.50412412 0.86038677 0.2410578 ]]\n",
      "[[[0.47539336 0.5160857 ]\n",
      "  [0.58449375 0.1451566 ]]\n",
      "\n",
      " [[0.69356317 0.77817505]\n",
      "  [0.54405195 0.06387605]]\n",
      "\n",
      " [[0.49038025 0.50412412]\n",
      "  [0.86038677 0.2410578 ]]]\n"
     ]
    }
   ],
   "source": [
    "# We can reshape the numpy arrays using reshape \n",
    "d = c.reshape(3,2,2)\n",
    "print(c)\n",
    "print(d)"
   ]
  },
  {
   "cell_type": "code",
   "execution_count": 7,
   "metadata": {},
   "outputs": [
    {
     "name": "stdout",
     "output_type": "stream",
     "text": [
      "5.89674454105144\n",
      "0.4913953784209533\n",
      "0.0530883971891947\n",
      "\n",
      "\n",
      "[[1.65933677 1.79838487]\n",
      " [1.98893246 0.45009044]]\n",
      "[[1.0598871  0.66124229]\n",
      " [1.23761511 0.8420511 ]\n",
      " [1.35076702 0.74518192]]\n"
     ]
    }
   ],
   "source": [
    "# We can also perform aggregation operators in numpy\n",
    "sum_d = d.sum()\n",
    "print(sum_d)\n",
    "print(d.mean())\n",
    "print(d.var())\n",
    "print('\\n')\n",
    "\n",
    "# We can also aggregate along a specific dimension\n",
    "sum_d_0 = d.sum(0)\n",
    "print(sum_d_0)\n",
    "\n",
    "sum_d_1 = d.sum(1)\n",
    "print(sum_d_1)\n",
    "\n",
    "# Notice the shapes after summing in a particular dimension\n",
    "# Aggregation operation marginalizes across that dimension\n",
    "# So a 3x2x2 shaped array summed in dimesion 0 becomes 2x2 shaped"
   ]
  },
  {
   "cell_type": "code",
   "execution_count": 8,
   "metadata": {},
   "outputs": [
    {
     "name": "stdout",
     "output_type": "stream",
     "text": [
      "[[[0.47539336 0.5160857 ]\n",
      "  [0.58449375 0.1451566 ]]\n",
      "\n",
      " [[0.69356317 0.77817505]\n",
      "  [0.54405195 0.06387605]]\n",
      "\n",
      " [[0.49038025 0.50412412]\n",
      "  [0.86038677 0.2410578 ]]]\n"
     ]
    }
   ],
   "source": [
    "# We can save and load numpy arrays in binary format using this:\n",
    "np.save('save_d.npy', d)\n",
    "e = np.load('save_d.npy')\n",
    "print(e)"
   ]
  },
  {
   "cell_type": "markdown",
   "metadata": {},
   "source": [
    "### 10 minute PyTorch intro\n",
    "PyTorch is a general purpose deep-learning python library. Just like NumPy has numpy arrays, at the core of PyTorch are pytorch tensors. On surface (and for a 10 minute blitz), they operate in a similar way as numpy arrays. Let's see how:"
   ]
  },
  {
   "cell_type": "code",
   "execution_count": 9,
   "metadata": {},
   "outputs": [
    {
     "name": "stdout",
     "output_type": "stream",
     "text": [
      "tensor([ 1,  2,  3,  4,  5])\n",
      "<class 'torch.Tensor'>\n"
     ]
    }
   ],
   "source": [
    "a = [1,2,3,4,5]\n",
    "b = torch.tensor(a)\n",
    "print(b)\n",
    "print(type(b))"
   ]
  },
  {
   "cell_type": "code",
   "execution_count": 10,
   "metadata": {},
   "outputs": [
    {
     "name": "stdout",
     "output_type": "stream",
     "text": [
      "tensor([[[ 0.4754,  0.5161],\n",
      "         [ 0.5845,  0.1452]],\n",
      "\n",
      "        [[ 0.6936,  0.7782],\n",
      "         [ 0.5441,  0.0639]],\n",
      "\n",
      "        [[ 0.4904,  0.5041],\n",
      "         [ 0.8604,  0.2411]]], dtype=torch.float64)\n",
      "tensor([[[ 0.4754,  0.5161],\n",
      "         [ 0.5845,  0.1452]],\n",
      "\n",
      "        [[ 0.6936,  0.7782],\n",
      "         [ 0.5441,  0.0639]],\n",
      "\n",
      "        [[ 0.4904,  0.5041],\n",
      "         [ 0.8604,  0.2411]]], dtype=torch.float64)\n"
     ]
    }
   ],
   "source": [
    "# We can also convert a numpy array into pytorch variable\n",
    "f = torch.tensor(e)\n",
    "print(f)\n",
    "\n",
    "# now deprecated, but can be seen in old codes\n",
    "g = torch.from_numpy(e) \n",
    "print(g)"
   ]
  },
  {
   "cell_type": "code",
   "execution_count": 11,
   "metadata": {},
   "outputs": [
    {
     "name": "stdout",
     "output_type": "stream",
     "text": [
      "torch.Size([3, 2, 2])\n",
      "torch.Size([3, 2, 2])\n",
      "tensor([[ 0.4754,  0.5161,  0.5845,  0.1452],\n",
      "        [ 0.6936,  0.7782,  0.5441,  0.0639],\n",
      "        [ 0.4904,  0.5041,  0.8604,  0.2411]], dtype=torch.float64)\n"
     ]
    }
   ],
   "source": [
    "# Just like numpy, tensors have shapes (also called sizes)\n",
    "print(g.shape)\n",
    "print(g.size())\n",
    "\n",
    "# And we can reshape the tensors\n",
    "h = g.reshape(3,4)\n",
    "print(h)"
   ]
  },
  {
   "cell_type": "code",
   "execution_count": 12,
   "metadata": {},
   "outputs": [
    {
     "name": "stdout",
     "output_type": "stream",
     "text": [
      "tensor([[ 0.4754,  0.5161,  0.5845,  0.1452],\n",
      "        [ 0.6936,  0.7782,  0.5441,  0.0639],\n",
      "        [ 0.4904,  0.5041,  0.8604,  0.2411]], dtype=torch.float64)\n"
     ]
    }
   ],
   "source": [
    "# We can also save and load torch tensors\n",
    "torch.save(h, 'save_torch.pt')\n",
    "i = torch.load('save_torch.pt')\n",
    "print(i)"
   ]
  },
  {
   "cell_type": "markdown",
   "metadata": {},
   "source": [
    "With this brief intro to pytorch and numpy, we'll begin looking at the problem set"
   ]
  }
 ],
 "metadata": {
  "kernelspec": {
   "display_name": "Python 3",
   "language": "python",
   "name": "python3"
  },
  "language_info": {
   "codemirror_mode": {
    "name": "ipython",
    "version": 3
   },
   "file_extension": ".py",
   "mimetype": "text/x-python",
   "name": "python",
   "nbconvert_exporter": "python",
   "pygments_lexer": "ipython3",
   "version": "3.6.5"
  }
 },
 "nbformat": 4,
 "nbformat_minor": 2
}
